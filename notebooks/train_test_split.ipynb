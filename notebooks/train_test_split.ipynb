{
 "cells": [
  {
   "cell_type": "code",
   "execution_count": 1,
   "id": "1e3e1726",
   "metadata": {},
   "outputs": [],
   "source": [
    "import os\n",
    "import shutil\n",
    "import random"
   ]
  },
  {
   "cell_type": "code",
   "execution_count": 2,
   "id": "b0835160",
   "metadata": {},
   "outputs": [],
   "source": [
    "def is_horizontal(filename):\n",
    "    return filename.split('_')[-1][0] == 'H'\n",
    "\n",
    "def is_vertical(filename):\n",
    "    return filename.split('_')[-1][0] == 'V'"
   ]
  },
  {
   "cell_type": "code",
   "execution_count": 3,
   "id": "7d937427",
   "metadata": {},
   "outputs": [],
   "source": [
    "filename_list = os.listdir('./signature_centerize_data/images/')\n",
    "horizontal_image_list = list(filter(is_horizontal, filename_list))\n",
    "vertical_image_list = list(filter(is_vertical, filename_list))"
   ]
  },
  {
   "cell_type": "code",
   "execution_count": 4,
   "id": "5b464039",
   "metadata": {},
   "outputs": [],
   "source": [
    "train_image_list = horizontal_image_list[:72] + vertical_image_list[:72]\n",
    "test_image_list = horizontal_image_list[72:] + vertical_image_list[72:]"
   ]
  },
  {
   "cell_type": "code",
   "execution_count": 5,
   "id": "b1298afc",
   "metadata": {},
   "outputs": [
    {
     "name": "stdout",
     "output_type": "stream",
     "text": [
      "144\n",
      "48\n"
     ]
    }
   ],
   "source": [
    "print(len(train_image_list))\n",
    "print(len(test_image_list))"
   ]
  },
  {
   "cell_type": "code",
   "execution_count": 6,
   "id": "32320cce",
   "metadata": {},
   "outputs": [],
   "source": [
    "for img_filename in train_image_list:\n",
    "    anno_filename = img_filename.split('.')[0] + '.txt'\n",
    "    # train\n",
    "    shutil.copy(\n",
    "        os.path.join('./signature_centerize_data/images/', img_filename),\n",
    "        os.path.join('./datasets/cathay_sd_VH/images/train/', img_filename)\n",
    "    )\n",
    "    shutil.copy(\n",
    "        os.path.join('./signature_centerize_data/labels/', anno_filename),\n",
    "        os.path.join('./datasets/cathay_sd_VH/labels/train/', anno_filename)\n",
    "    )\n",
    "    \n",
    "for img_filename in test_image_list:\n",
    "    anno_filename = img_filename.split('.')[0] + '.txt'\n",
    "    # val\n",
    "    shutil.copy(\n",
    "        os.path.join('./signature_centerize_data/images/', img_filename),\n",
    "        os.path.join('./datasets/cathay_sd_VH/images/val/', img_filename)\n",
    "    )\n",
    "    shutil.copy(\n",
    "        os.path.join('./signature_centerize_data/labels/', anno_filename),\n",
    "        os.path.join('./datasets/cathay_sd_VH/labels/val/', anno_filename)\n",
    "    )"
   ]
  },
  {
   "cell_type": "code",
   "execution_count": 10,
   "id": "2589fd70",
   "metadata": {},
   "outputs": [
    {
     "data": {
      "text/plain": [
       "48"
      ]
     },
     "execution_count": 10,
     "metadata": {},
     "output_type": "execute_result"
    }
   ],
   "source": [
    "len(os.listdir('./datasets/cathay_sd_VH/labels/val/'))"
   ]
  },
  {
   "cell_type": "code",
   "execution_count": null,
   "id": "6c053e1e",
   "metadata": {},
   "outputs": [],
   "source": []
  }
 ],
 "metadata": {
  "kernelspec": {
   "display_name": "Python 3 (ipykernel)",
   "language": "python",
   "name": "python3"
  },
  "language_info": {
   "codemirror_mode": {
    "name": "ipython",
    "version": 3
   },
   "file_extension": ".py",
   "mimetype": "text/x-python",
   "name": "python",
   "nbconvert_exporter": "python",
   "pygments_lexer": "ipython3",
   "version": "3.10.0"
  }
 },
 "nbformat": 4,
 "nbformat_minor": 5
}
