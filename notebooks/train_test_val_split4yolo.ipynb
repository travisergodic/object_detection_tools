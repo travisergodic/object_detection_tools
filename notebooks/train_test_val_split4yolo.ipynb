{
 "cells": [
  {
   "cell_type": "code",
   "execution_count": 1,
   "id": "96aa8101",
   "metadata": {},
   "outputs": [],
   "source": [
    "import random\n",
    "import shutil\n",
    "from pathlib import Path"
   ]
  },
  {
   "cell_type": "code",
   "execution_count": 6,
   "id": "ec296719",
   "metadata": {},
   "outputs": [],
   "source": [
    "image_folder = './signature_centerize_data/images/'\n",
    "anno_folder = './signature_centerize_data/labels/'\n",
    "suffix_list = ['.jpg', '.tif']\n",
    "seed = 14\n",
    "train_ratio = 0.8\n",
    "test_ratio = 0.2\n",
    "\n",
    "TRAIN_FOLDER = './train'\n",
    "TEST_FOLDER = './test'"
   ]
  },
  {
   "cell_type": "code",
   "execution_count": 3,
   "id": "4ed9c9ed",
   "metadata": {},
   "outputs": [],
   "source": [
    "random.seed(seed)\n",
    "image_anno_pair_list = []\n",
    "\n",
    "# collect\n",
    "for image_path in Path(image_folder).glob('*'):\n",
    "    if not any([image_path.name.endswith(suffix) for suffix in suffix_list]):\n",
    "        continue\n",
    "    anno_path = Path(anno_folder) / (image_path.name.split('.')[0] + '.txt')\n",
    "    if anno_path.is_file(): \n",
    "        image_anno_pair_list.append((image_path, anno_path))\n",
    "\n",
    "length = len(image_anno_pair_list)        \n",
    "        \n",
    "# train test split\n",
    "random.shuffle(image_anno_pair_list)\n",
    "train_image_anno_pair_list = image_anno_pair_list[\n",
    "    :int(length * train_ratio)\n",
    "]\n",
    "test_image_anno_pair_list = image_anno_pair_list[\n",
    "    int(length * train_ratio):(int(length * train_ratio) + int(length * test_ratio))\n",
    "]"
   ]
  },
  {
   "cell_type": "code",
   "execution_count": 4,
   "id": "49cfe71d",
   "metadata": {},
   "outputs": [],
   "source": [
    "# mkdir\n",
    "Path(TRAIN_FOLDER).mkdir(parents=True, exist_ok=False)\n",
    "Path(TEST_FOLDER).mkdir(parents=True, exist_ok=False)\n",
    "(Path(TRAIN_FOLDER) / 'images').mkdir(parents=True, exist_ok=True)\n",
    "(Path(TRAIN_FOLDER) / 'labels').mkdir(parents=True, exist_ok=True)\n",
    "(Path(TEST_FOLDER) / 'images').mkdir(parents=True, exist_ok=True)\n",
    "(Path(TEST_FOLDER) / 'labels').mkdir(parents=True, exist_ok=True)"
   ]
  },
  {
   "cell_type": "code",
   "execution_count": 5,
   "id": "5aef34cd",
   "metadata": {},
   "outputs": [],
   "source": [
    "for image_path, anno_path in train_image_anno_pair_list:\n",
    "    shutil.copy(str(image_path), str(Path('./train/images') / image_path.name))\n",
    "    shutil.copy(str(anno_path), str(Path('./train/labels') / anno_path.name))\n",
    "    \n",
    "for image_path, anno_path in test_image_anno_pair_list:\n",
    "    shutil.copy(str(image_path), str(Path('./test/images') / image_path.name))\n",
    "    shutil.copy(str(anno_path), str(Path('./test/labels') / anno_path.name))"
   ]
  },
  {
   "cell_type": "code",
   "execution_count": 7,
   "id": "9dab8ade",
   "metadata": {},
   "outputs": [
    {
     "name": "stdout",
     "output_type": "stream",
     "text": [
      "cathay_sd_VH.yaml                \u001b[1m\u001b[36mtest\u001b[m\u001b[m/\r\n",
      "coco_dataset.json                test.json\r\n",
      "cocosplit.py                     \u001b[1m\u001b[36mtrain\u001b[m\u001b[m/\r\n",
      "\u001b[1m\u001b[36mdatasets\u001b[m\u001b[m/                        train.json\r\n",
      "datasets.zip                     train_test_split.ipynb\r\n",
      "draw_bboxes.ipynb                train_test_val_split4yolo.ipynb\r\n",
      "globox_convert.ipynb             yolovocsplit.py\r\n",
      "\u001b[1m\u001b[36msignature_centerize_data\u001b[m\u001b[m/\r\n"
     ]
    }
   ],
   "source": [
    "%ls"
   ]
  },
  {
   "cell_type": "code",
   "execution_count": 9,
   "id": "1cc3a36e",
   "metadata": {},
   "outputs": [
    {
     "name": "stdout",
     "output_type": "stream",
     "text": [
      "usage: yolovocsplit.py [-h] --data_type {YOLO,VOC}\r\n",
      "                       [--img_suffix_list IMG_SUFFIX_LIST [IMG_SUFFIX_LIST ...]]\r\n",
      "                       [--train_ratio TRAIN_RATIO]\r\n",
      "                       img_folder anno_folder\r\n",
      "yolovocsplit.py: error: unrecognized arguments: --img_folder --anno_folder\r\n"
     ]
    }
   ],
   "source": [
    "!python yolovocsplit.py --data_type \"YOLO\" --img_folder \"./signature_centerize_data/images/\" \\\n",
    "                        --anno_folder \"./signature_centerize_data/labels/\"  \\\n",
    "                        --img_suffix_list \".jpg\" \".tif\" --train_ratio 0.8"
   ]
  },
  {
   "cell_type": "code",
   "execution_count": null,
   "id": "179b36f6",
   "metadata": {},
   "outputs": [],
   "source": []
  }
 ],
 "metadata": {
  "kernelspec": {
   "display_name": "Python 3 (ipykernel)",
   "language": "python",
   "name": "python3"
  },
  "language_info": {
   "codemirror_mode": {
    "name": "ipython",
    "version": 3
   },
   "file_extension": ".py",
   "mimetype": "text/x-python",
   "name": "python",
   "nbconvert_exporter": "python",
   "pygments_lexer": "ipython3",
   "version": "3.10.0"
  }
 },
 "nbformat": 4,
 "nbformat_minor": 5
}
