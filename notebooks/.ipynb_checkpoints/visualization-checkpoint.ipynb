{
 "cells": [
  {
   "cell_type": "markdown",
   "id": "9cd32aea",
   "metadata": {},
   "source": [
    "## 導入模塊"
   ]
  },
  {
   "cell_type": "code",
   "execution_count": 1,
   "id": "42ddcf70",
   "metadata": {},
   "outputs": [],
   "source": [
    "import os\n",
    "import fiftyone as fo"
   ]
  },
  {
   "cell_type": "markdown",
   "id": "7a4c4053",
   "metadata": {},
   "source": [
    "## yolov5 格式視覺化"
   ]
  },
  {
   "cell_type": "code",
   "execution_count": 2,
   "id": "a6294b65",
   "metadata": {},
   "outputs": [
    {
     "name": "stdout",
     "output_type": "stream",
     "text": [
      " 100% |█████████████████| 144/144 [215.0ms elapsed, 0s remaining, 669.8 samples/s]     \n",
      " 100% |███████████████████| 48/48 [66.8ms elapsed, 0s remaining, 718.4 samples/s]     \n"
     ]
    }
   ],
   "source": [
    "name = \"signature-yolov5-dataset\"\n",
    "dataset_dir = \"../datasets/cathay_sd_VH/yolov5/\"\n",
    "\n",
    "# The splits to load\n",
    "splits = [\"train\", \"val\"]\n",
    "\n",
    "# Load the dataset, using tags to mark the samples in each split\n",
    "dataset = fo.Dataset(name)\n",
    "for split in splits:\n",
    "    dataset.add_dir(\n",
    "        dataset_dir=dataset_dir,\n",
    "        dataset_type=fo.types.YOLOv5Dataset,\n",
    "        split=split,\n",
    "        tags=split\n",
    "    )"
   ]
  },
  {
   "cell_type": "code",
   "execution_count": 3,
   "id": "7b23b1b2",
   "metadata": {},
   "outputs": [
    {
     "data": {
      "text/plain": [
       "Name:        signature-yolov5-dataset\n",
       "Media type:  image\n",
       "Num samples: 192\n",
       "Persistent:  False\n",
       "Tags:        []\n",
       "Sample fields:\n",
       "    id:           fiftyone.core.fields.ObjectIdField\n",
       "    filepath:     fiftyone.core.fields.StringField\n",
       "    tags:         fiftyone.core.fields.ListField(fiftyone.core.fields.StringField)\n",
       "    metadata:     fiftyone.core.fields.EmbeddedDocumentField(fiftyone.core.metadata.ImageMetadata)\n",
       "    ground_truth: fiftyone.core.fields.EmbeddedDocumentField(fiftyone.core.labels.Detections)"
      ]
     },
     "execution_count": 3,
     "metadata": {},
     "output_type": "execute_result"
    }
   ],
   "source": [
    "dataset"
   ]
  },
  {
   "cell_type": "code",
   "execution_count": 4,
   "id": "0827c426",
   "metadata": {},
   "outputs": [
    {
     "data": {
      "text/html": [
       "\n",
       "        <iframe\n",
       "            width=\"100%\"\n",
       "            height=\"800\"\n",
       "            src=\"http://localhost:5151/?notebook=True&subscription=1648ebb7-6f5c-4d5f-b96a-122e3e8e926e\"\n",
       "            frameborder=\"0\"\n",
       "            allowfullscreen\n",
       "            \n",
       "        ></iframe>\n",
       "        "
      ],
      "text/plain": [
       "<IPython.lib.display.IFrame at 0x12e32f6d0>"
      ]
     },
     "metadata": {},
     "output_type": "display_data"
    }
   ],
   "source": [
    "session = fo.launch_app(dataset)"
   ]
  },
  {
   "cell_type": "markdown",
   "id": "0ece2603",
   "metadata": {},
   "source": [
    "## coco 格式視覺化-1"
   ]
  },
  {
   "cell_type": "code",
   "execution_count": 5,
   "id": "d1a65021",
   "metadata": {},
   "outputs": [
    {
     "name": "stdout",
     "output_type": "stream",
     "text": [
      " 100% |█████████████████| 144/144 [246.4ms elapsed, 0s remaining, 590.9 samples/s]      \n"
     ]
    }
   ],
   "source": [
    "# A name for the dataset\n",
    "name = \"signature-coco-dataset\"\n",
    "\n",
    "# The directory containing the dataset to import\n",
    "dataset_dir = \"../datasets/cathay_sd_VH/coco/train\"\n",
    "\n",
    "# Create the dataset\n",
    "dataset = fo.Dataset.from_dir(\n",
    "    dataset_dir=dataset_dir,\n",
    "    dataset_type=fo.types.COCODetectionDataset,\n",
    "    name=name,\n",
    ")"
   ]
  },
  {
   "cell_type": "code",
   "execution_count": 6,
   "id": "04ee3ba3",
   "metadata": {},
   "outputs": [
    {
     "data": {
      "text/plain": [
       "Name:        signature-coco-dataset\n",
       "Media type:  image\n",
       "Num samples: 144\n",
       "Persistent:  False\n",
       "Tags:        []\n",
       "Sample fields:\n",
       "    id:         fiftyone.core.fields.ObjectIdField\n",
       "    filepath:   fiftyone.core.fields.StringField\n",
       "    tags:       fiftyone.core.fields.ListField(fiftyone.core.fields.StringField)\n",
       "    metadata:   fiftyone.core.fields.EmbeddedDocumentField(fiftyone.core.metadata.ImageMetadata)\n",
       "    detections: fiftyone.core.fields.EmbeddedDocumentField(fiftyone.core.labels.Detections)"
      ]
     },
     "execution_count": 6,
     "metadata": {},
     "output_type": "execute_result"
    }
   ],
   "source": [
    "dataset"
   ]
  },
  {
   "cell_type": "code",
   "execution_count": 7,
   "id": "88ae518c",
   "metadata": {
    "scrolled": true
   },
   "outputs": [
    {
     "data": {
      "text/html": [
       "\n",
       "<style>\n",
       "@import url(\"https://fonts.googleapis.com/css2?family=Palanquin&display=swap\");\n",
       "\n",
       "body, html {\n",
       "  margin: 0;\n",
       "  padding: 0;\n",
       "  width: 100%;\n",
       "}\n",
       "\n",
       "#focontainer-b7e21190-836b-4143-930c-6de29f2b848f {\n",
       "  position: relative;\n",
       "  height: 800px;\n",
       "  display: block !important;\n",
       "}\n",
       "#foactivate-b7e21190-836b-4143-930c-6de29f2b848f {\n",
       "  font-weight: bold;\n",
       "  cursor: pointer;\n",
       "  font-size: 24px;\n",
       "  border-radius: 3px;\n",
       "  text-align: center;\n",
       "  padding: 0.5em;\n",
       "  color: rgb(255, 255, 255);\n",
       "  font-family: \"Palanquin\", sans-serif;\n",
       "  position: absolute;\n",
       "  left: 50%;\n",
       "  top: 50%;\n",
       "  width: 160px;\n",
       "  margin-left: -80px;\n",
       "  margin-top: -23px;\n",
       "  background: hsla(210,11%,15%, 0.8);\n",
       "  border: none;\n",
       "}\n",
       "#foactivate-b7e21190-836b-4143-930c-6de29f2b848f:focus {\n",
       "  outline: none;\n",
       "}\n",
       "#fooverlay-b7e21190-836b-4143-930c-6de29f2b848f {\n",
       "  width: 100%;\n",
       "  height: 100%;\n",
       "  background: hsla(208, 7%, 46%, 0.7);\n",
       "  position: absolute;\n",
       "  top: 0;\n",
       "  left: 0;\n",
       "  display: none;\n",
       "  cursor: pointer;\n",
       "}\n",
       "</style>\n",
       "\n",
       "<div id=\"focontainer-b7e21190-836b-4143-930c-6de29f2b848f\">\n",
       "   <div id=\"fooverlay-b7e21190-836b-4143-930c-6de29f2b848f\" style=\"display: none;\">\n",
       "      <button id=\"foactivate-b7e21190-836b-4143-930c-6de29f2b848f\" >Activate</button>\n",
       "   </div>\n",
       "   <img src='data:image/jpeg;base64,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' style=\"width: 100%; max-width: 1965px;\"/>\n",
       "</div>\n",
       "\n",
       "<script type=\"text/javascript\">\n",
       "   (function() {\n",
       "     var container = document.getElementById(\"focontainer-b7e21190-836b-4143-930c-6de29f2b848f\");\n",
       "     var overlay = document.getElementById(\"fooverlay-b7e21190-836b-4143-930c-6de29f2b848f\");\n",
       "     fetch(`http://localhost:5151/fiftyone`)\n",
       "     .then(() => {\n",
       "        overlay.addEventListener(\"click\", () => {\n",
       "          fetch(`http://localhost:5151/event`, {\n",
       "            method: \"POST\",\n",
       "            body: JSON.stringify({\n",
       "              event: \"reactivate_notebook_cell\",\n",
       "              data: { subscription: \"b7e21190-836b-4143-930c-6de29f2b848f\" },\n",
       "              subscription: \"b7e21190-836b-4143-930c-6de29f2b848f\"\n",
       "            })\n",
       "          })\n",
       "        });\n",
       "        container.addEventListener(\"mouseenter\", () => overlay.style.display = \"block\");\n",
       "        container.addEventListener(\"mouseleave\", () => overlay.style.display = \"none\");\n",
       "     });\n",
       "   })();\n",
       "</script>"
      ],
      "text/plain": [
       "<IPython.core.display.HTML object>"
      ]
     },
     "metadata": {},
     "output_type": "display_data"
    }
   ],
   "source": [
    "session = fo.launch_app(dataset)"
   ]
  },
  {
   "cell_type": "markdown",
   "id": "5203210e",
   "metadata": {},
   "source": [
    "## coco 格式視覺化-2"
   ]
  },
  {
   "cell_type": "code",
   "execution_count": 9,
   "id": "0e0e9c00",
   "metadata": {},
   "outputs": [
    {
     "name": "stdout",
     "output_type": "stream",
     "text": [
      " 100% |█████████████████| 144/144 [248.5ms elapsed, 0s remaining, 584.7 samples/s]      \n",
      " 100% |███████████████████| 48/48 [77.4ms elapsed, 0s remaining, 619.8 samples/s]     \n"
     ]
    }
   ],
   "source": [
    "name = \"signature-coco-dataset2\"\n",
    "dataset_dir = \"../datasets/cathay_sd_VH/coco/\"\n",
    "\n",
    "# The splits to load\n",
    "splits = [\"train\", \"val\"]\n",
    "\n",
    "# Load the dataset, using tags to mark the samples in each split\n",
    "dataset = fo.Dataset(name)\n",
    "for split in splits:\n",
    "    dataset.add_dir(\n",
    "        dataset_dir=os.path.join(dataset_dir, split),\n",
    "        dataset_type=fo.types.COCODetectionDataset,\n",
    "        tags=split\n",
    "    )"
   ]
  },
  {
   "cell_type": "code",
   "execution_count": 10,
   "id": "7355e94e",
   "metadata": {
    "scrolled": true
   },
   "outputs": [
    {
     "data": {
      "text/html": [
       "\n",
       "        <iframe\n",
       "            width=\"100%\"\n",
       "            height=\"800\"\n",
       "            src=\"http://localhost:5151/?notebook=True&subscription=a701117d-1646-430d-9c8d-82b677e6e736\"\n",
       "            frameborder=\"0\"\n",
       "            allowfullscreen\n",
       "            \n",
       "        ></iframe>\n",
       "        "
      ],
      "text/plain": [
       "<IPython.lib.display.IFrame at 0x13a632590>"
      ]
     },
     "metadata": {},
     "output_type": "display_data"
    },
    {
     "name": "stdout",
     "output_type": "stream",
     "text": [
      "\n",
      "Could not connect session, trying again in 10 seconds\n",
      "\n",
      "\n",
      "Could not connect session, trying again in 10 seconds\n",
      "\n",
      "\n",
      "Could not connect session, trying again in 10 seconds\n",
      "\n",
      "\n",
      "Could not connect session, trying again in 10 seconds\n",
      "\n"
     ]
    }
   ],
   "source": [
    "session = fo.launch_app(dataset)"
   ]
  },
  {
   "cell_type": "markdown",
   "id": "6c1951b6",
   "metadata": {},
   "source": [
    "## voc 格式視覺化"
   ]
  },
  {
   "cell_type": "code",
   "execution_count": 8,
   "id": "66188a05",
   "metadata": {},
   "outputs": [
    {
     "name": "stdout",
     "output_type": "stream",
     "text": [
      " 100% |█████████████████| 144/144 [197.7ms elapsed, 0s remaining, 728.2 samples/s]     \n"
     ]
    }
   ],
   "source": [
    "name = \"signature-voc-dataset\"\n",
    "dataset_dir = \"../datasets/cathay_sd_VH/voc/train/\"\n",
    "\n",
    "# Create the dataset\n",
    "dataset = fo.Dataset.from_dir(\n",
    "    dataset_dir=dataset_dir,\n",
    "    dataset_type=fo.types.VOCDetectionDataset,\n",
    "    name=name,\n",
    ")"
   ]
  },
  {
   "cell_type": "code",
   "execution_count": 9,
   "id": "b732467a",
   "metadata": {},
   "outputs": [
    {
     "data": {
      "text/html": [
       "\n",
       "        <iframe\n",
       "            width=\"100%\"\n",
       "            height=\"800\"\n",
       "            src=\"http://localhost:5151/?notebook=True&subscription=b521b621-e56f-4faf-bc8f-8d3a084c56f2\"\n",
       "            frameborder=\"0\"\n",
       "            allowfullscreen\n",
       "            \n",
       "        ></iframe>\n",
       "        "
      ],
      "text/plain": [
       "<IPython.lib.display.IFrame at 0x141b9cf10>"
      ]
     },
     "metadata": {},
     "output_type": "display_data"
    },
    {
     "name": "stdout",
     "output_type": "stream",
     "text": [
      "\n",
      "Could not connect session, trying again in 10 seconds\n",
      "\n",
      "\n",
      "Could not connect session, trying again in 10 seconds\n",
      "\n",
      "\n",
      "Could not connect session, trying again in 10 seconds\n",
      "\n",
      "\n",
      "Could not connect session, trying again in 10 seconds\n",
      "\n",
      "\n",
      "Could not connect session, trying again in 10 seconds\n",
      "\n",
      "\n",
      "Could not connect session, trying again in 10 seconds\n",
      "\n",
      "\n",
      "Could not connect session, trying again in 10 seconds\n",
      "\n",
      "\n",
      "Could not connect session, trying again in 10 seconds\n",
      "\n",
      "\n",
      "Could not connect session, trying again in 10 seconds\n",
      "\n",
      "\n",
      "Could not connect session, trying again in 10 seconds\n",
      "\n",
      "\n",
      "Could not connect session, trying again in 10 seconds\n",
      "\n",
      "\n",
      "Could not connect session, trying again in 10 seconds\n",
      "\n",
      "\n",
      "Could not connect session, trying again in 10 seconds\n",
      "\n",
      "\n",
      "Could not connect session, trying again in 10 seconds\n",
      "\n",
      "\n",
      "Could not connect session, trying again in 10 seconds\n",
      "\n",
      "\n",
      "Could not connect session, trying again in 10 seconds\n",
      "\n",
      "\n",
      "Could not connect session, trying again in 10 seconds\n",
      "\n",
      "\n",
      "Could not connect session, trying again in 10 seconds\n",
      "\n",
      "\n",
      "Could not connect session, trying again in 10 seconds\n",
      "\n",
      "\n",
      "Could not connect session, trying again in 10 seconds\n",
      "\n",
      "\n",
      "Could not connect session, trying again in 10 seconds\n",
      "\n",
      "\n",
      "Could not connect session, trying again in 10 seconds\n",
      "\n",
      "\n",
      "Could not connect session, trying again in 10 seconds\n",
      "\n",
      "\n",
      "Could not connect session, trying again in 10 seconds\n",
      "\n",
      "\n",
      "Could not connect session, trying again in 10 seconds\n",
      "\n",
      "\n",
      "Could not connect session, trying again in 10 seconds\n",
      "\n",
      "\n",
      "Could not connect session, trying again in 10 seconds\n",
      "\n",
      "\n",
      "Could not connect session, trying again in 10 seconds\n",
      "\n",
      "\n",
      "Could not connect session, trying again in 10 seconds\n",
      "\n",
      "\n",
      "Could not connect session, trying again in 10 seconds\n",
      "\n",
      "\n",
      "Could not connect session, trying again in 10 seconds\n",
      "\n"
     ]
    }
   ],
   "source": [
    "session = fo.launch_app(dataset)"
   ]
  }
 ],
 "metadata": {
  "kernelspec": {
   "display_name": "Python 3 (ipykernel)",
   "language": "python",
   "name": "python3"
  },
  "language_info": {
   "codemirror_mode": {
    "name": "ipython",
    "version": 3
   },
   "file_extension": ".py",
   "mimetype": "text/x-python",
   "name": "python",
   "nbconvert_exporter": "python",
   "pygments_lexer": "ipython3",
   "version": "3.10.0"
  }
 },
 "nbformat": 4,
 "nbformat_minor": 5
}
